{
 "cells": [
  {
   "cell_type": "code",
   "execution_count": 12,
   "metadata": {},
   "outputs": [],
   "source": [
    "import pandas as pd"
   ]
  },
  {
   "cell_type": "code",
   "execution_count": 25,
   "metadata": {},
   "outputs": [],
   "source": [
    "df = pd.read_excel(\"data/online_retail_II.xlsx\")"
   ]
  },
  {
   "cell_type": "code",
   "execution_count": 38,
   "metadata": {},
   "outputs": [
    {
     "data": {
      "text/plain": [
       "(525461, 8)"
      ]
     },
     "execution_count": 38,
     "metadata": {},
     "output_type": "execute_result"
    }
   ],
   "source": [
    "df.shape"
   ]
  },
  {
   "cell_type": "code",
   "execution_count": 35,
   "metadata": {},
   "outputs": [
    {
     "name": "stdout",
     "output_type": "stream",
     "text": [
      "40\n",
      "['United Kingdom' 'France' 'USA' 'Belgium' 'Australia' 'EIRE' 'Germany'\n",
      " 'Portugal' 'Japan' 'Denmark' 'Nigeria' 'Netherlands' 'Poland' 'Spain'\n",
      " 'Channel Islands' 'Italy' 'Cyprus' 'Greece' 'Norway' 'Austria' 'Sweden'\n",
      " 'United Arab Emirates' 'Finland' 'Switzerland' 'Unspecified' 'Malta'\n",
      " 'Bahrain' 'RSA' 'Bermuda' 'Hong Kong' 'Singapore' 'Thailand' 'Israel'\n",
      " 'Lithuania' 'West Indies' 'Lebanon' 'Korea' 'Brazil' 'Canada' 'Iceland']\n"
     ]
    }
   ],
   "source": [
    "print(len(df['Country'].unique()))\n",
    "print(df['Country'].unique())"
   ]
  },
  {
   "cell_type": "code",
   "execution_count": 37,
   "metadata": {},
   "outputs": [
    {
     "data": {
      "text/html": [
       "<div>\n",
       "<style scoped>\n",
       "    .dataframe tbody tr th:only-of-type {\n",
       "        vertical-align: middle;\n",
       "    }\n",
       "\n",
       "    .dataframe tbody tr th {\n",
       "        vertical-align: top;\n",
       "    }\n",
       "\n",
       "    .dataframe thead th {\n",
       "        text-align: right;\n",
       "    }\n",
       "</style>\n",
       "<table border=\"1\" class=\"dataframe\">\n",
       "  <thead>\n",
       "    <tr style=\"text-align: right;\">\n",
       "      <th></th>\n",
       "      <th>Invoice</th>\n",
       "      <th>StockCode</th>\n",
       "      <th>Description</th>\n",
       "      <th>Quantity</th>\n",
       "      <th>InvoiceDate</th>\n",
       "      <th>Price</th>\n",
       "      <th>Customer ID</th>\n",
       "      <th>Country</th>\n",
       "    </tr>\n",
       "  </thead>\n",
       "  <tbody>\n",
       "    <tr>\n",
       "      <th>61394</th>\n",
       "      <td>494860</td>\n",
       "      <td>84832</td>\n",
       "      <td>ZINC WILLIE WINKIE  CANDLE STICK</td>\n",
       "      <td>5</td>\n",
       "      <td>2010-01-19 11:01:00</td>\n",
       "      <td>0.85</td>\n",
       "      <td>12470.0</td>\n",
       "      <td>Unspecified</td>\n",
       "    </tr>\n",
       "    <tr>\n",
       "      <th>61395</th>\n",
       "      <td>494860</td>\n",
       "      <td>84836</td>\n",
       "      <td>ZINC METAL HEART DECORATION</td>\n",
       "      <td>5</td>\n",
       "      <td>2010-01-19 11:01:00</td>\n",
       "      <td>1.25</td>\n",
       "      <td>12470.0</td>\n",
       "      <td>Unspecified</td>\n",
       "    </tr>\n",
       "    <tr>\n",
       "      <th>61396</th>\n",
       "      <td>494860</td>\n",
       "      <td>85014D</td>\n",
       "      <td>PINK/BROWN DOTS RUFFLED UMBRELLA</td>\n",
       "      <td>1</td>\n",
       "      <td>2010-01-19 11:01:00</td>\n",
       "      <td>5.95</td>\n",
       "      <td>12470.0</td>\n",
       "      <td>Unspecified</td>\n",
       "    </tr>\n",
       "    <tr>\n",
       "      <th>61397</th>\n",
       "      <td>494860</td>\n",
       "      <td>85014A</td>\n",
       "      <td>BLACK/BLUE DOTS RUFFLED UMBRELLA</td>\n",
       "      <td>1</td>\n",
       "      <td>2010-01-19 11:01:00</td>\n",
       "      <td>5.95</td>\n",
       "      <td>12470.0</td>\n",
       "      <td>Unspecified</td>\n",
       "    </tr>\n",
       "    <tr>\n",
       "      <th>61398</th>\n",
       "      <td>494860</td>\n",
       "      <td>85014B</td>\n",
       "      <td>RED/WHITE DOTS RUFFLED UMBRELLA</td>\n",
       "      <td>2</td>\n",
       "      <td>2010-01-19 11:01:00</td>\n",
       "      <td>5.95</td>\n",
       "      <td>12470.0</td>\n",
       "      <td>Unspecified</td>\n",
       "    </tr>\n",
       "    <tr>\n",
       "      <th>...</th>\n",
       "      <td>...</td>\n",
       "      <td>...</td>\n",
       "      <td>...</td>\n",
       "      <td>...</td>\n",
       "      <td>...</td>\n",
       "      <td>...</td>\n",
       "      <td>...</td>\n",
       "      <td>...</td>\n",
       "    </tr>\n",
       "    <tr>\n",
       "      <th>499215</th>\n",
       "      <td>536012</td>\n",
       "      <td>79000</td>\n",
       "      <td>MOROCCAN TEA GLASS</td>\n",
       "      <td>12</td>\n",
       "      <td>2010-11-29 15:23:00</td>\n",
       "      <td>0.85</td>\n",
       "      <td>12351.0</td>\n",
       "      <td>Unspecified</td>\n",
       "    </tr>\n",
       "    <tr>\n",
       "      <th>499216</th>\n",
       "      <td>536012</td>\n",
       "      <td>22665</td>\n",
       "      <td>RECIPE BOX BLUE SKETCHBOOK DESIGN</td>\n",
       "      <td>6</td>\n",
       "      <td>2010-11-29 15:23:00</td>\n",
       "      <td>2.95</td>\n",
       "      <td>12351.0</td>\n",
       "      <td>Unspecified</td>\n",
       "    </tr>\n",
       "    <tr>\n",
       "      <th>499217</th>\n",
       "      <td>536012</td>\n",
       "      <td>20886</td>\n",
       "      <td>BOX OF 9 PEBBLE CANDLES</td>\n",
       "      <td>6</td>\n",
       "      <td>2010-11-29 15:23:00</td>\n",
       "      <td>1.95</td>\n",
       "      <td>12351.0</td>\n",
       "      <td>Unspecified</td>\n",
       "    </tr>\n",
       "    <tr>\n",
       "      <th>499218</th>\n",
       "      <td>536012</td>\n",
       "      <td>22424</td>\n",
       "      <td>ENAMEL BREAD BIN CREAM</td>\n",
       "      <td>1</td>\n",
       "      <td>2010-11-29 15:23:00</td>\n",
       "      <td>12.75</td>\n",
       "      <td>12351.0</td>\n",
       "      <td>Unspecified</td>\n",
       "    </tr>\n",
       "    <tr>\n",
       "      <th>499219</th>\n",
       "      <td>536012</td>\n",
       "      <td>22441</td>\n",
       "      <td>GROW YOUR OWN BASIL IN ENAMEL MUG</td>\n",
       "      <td>8</td>\n",
       "      <td>2010-11-29 15:23:00</td>\n",
       "      <td>2.10</td>\n",
       "      <td>12351.0</td>\n",
       "      <td>Unspecified</td>\n",
       "    </tr>\n",
       "  </tbody>\n",
       "</table>\n",
       "<p>310 rows × 8 columns</p>\n",
       "</div>"
      ],
      "text/plain": [
       "       Invoice StockCode                        Description  Quantity  \\\n",
       "61394   494860     84832   ZINC WILLIE WINKIE  CANDLE STICK         5   \n",
       "61395   494860     84836        ZINC METAL HEART DECORATION         5   \n",
       "61396   494860    85014D   PINK/BROWN DOTS RUFFLED UMBRELLA         1   \n",
       "61397   494860    85014A   BLACK/BLUE DOTS RUFFLED UMBRELLA         1   \n",
       "61398   494860    85014B    RED/WHITE DOTS RUFFLED UMBRELLA         2   \n",
       "...        ...       ...                                ...       ...   \n",
       "499215  536012     79000                 MOROCCAN TEA GLASS        12   \n",
       "499216  536012     22665  RECIPE BOX BLUE SKETCHBOOK DESIGN         6   \n",
       "499217  536012     20886            BOX OF 9 PEBBLE CANDLES         6   \n",
       "499218  536012     22424             ENAMEL BREAD BIN CREAM         1   \n",
       "499219  536012     22441  GROW YOUR OWN BASIL IN ENAMEL MUG         8   \n",
       "\n",
       "               InvoiceDate  Price  Customer ID      Country  \n",
       "61394  2010-01-19 11:01:00   0.85      12470.0  Unspecified  \n",
       "61395  2010-01-19 11:01:00   1.25      12470.0  Unspecified  \n",
       "61396  2010-01-19 11:01:00   5.95      12470.0  Unspecified  \n",
       "61397  2010-01-19 11:01:00   5.95      12470.0  Unspecified  \n",
       "61398  2010-01-19 11:01:00   5.95      12470.0  Unspecified  \n",
       "...                    ...    ...          ...          ...  \n",
       "499215 2010-11-29 15:23:00   0.85      12351.0  Unspecified  \n",
       "499216 2010-11-29 15:23:00   2.95      12351.0  Unspecified  \n",
       "499217 2010-11-29 15:23:00   1.95      12351.0  Unspecified  \n",
       "499218 2010-11-29 15:23:00  12.75      12351.0  Unspecified  \n",
       "499219 2010-11-29 15:23:00   2.10      12351.0  Unspecified  \n",
       "\n",
       "[310 rows x 8 columns]"
      ]
     },
     "execution_count": 37,
     "metadata": {},
     "output_type": "execute_result"
    }
   ],
   "source": [
    "df[df['Country']=='Unspecified']"
   ]
  },
  {
   "cell_type": "code",
   "execution_count": 39,
   "metadata": {},
   "outputs": [],
   "source": [
    "df_country_cleaned = df[df['Country']!='Unspecified']"
   ]
  },
  {
   "cell_type": "code",
   "execution_count": 40,
   "metadata": {},
   "outputs": [
    {
     "data": {
      "text/plain": [
       "(525151, 8)"
      ]
     },
     "execution_count": 40,
     "metadata": {},
     "output_type": "execute_result"
    }
   ],
   "source": [
    "df_country_cleaned.shape"
   ]
  },
  {
   "cell_type": "code",
   "execution_count": 23,
   "metadata": {},
   "outputs": [],
   "source": [
    "df = df.dropna(subset=['Customer ID']).copy()  # make an explicit copy"
   ]
  },
  {
   "cell_type": "code",
   "execution_count": null,
   "metadata": {},
   "outputs": [],
   "source": [
    "# Add a 'TotalPrice' column\n",
    "df['TotalPrice'] = df['Quantity'] * df['Price']"
   ]
  }
 ],
 "metadata": {
  "kernelspec": {
   "display_name": ".venv",
   "language": "python",
   "name": "python3"
  },
  "language_info": {
   "codemirror_mode": {
    "name": "ipython",
    "version": 3
   },
   "file_extension": ".py",
   "mimetype": "text/x-python",
   "name": "python",
   "nbconvert_exporter": "python",
   "pygments_lexer": "ipython3",
   "version": "3.8.10"
  }
 },
 "nbformat": 4,
 "nbformat_minor": 2
}
